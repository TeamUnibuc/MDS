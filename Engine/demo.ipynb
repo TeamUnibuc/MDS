{
 "metadata": {
  "language_info": {
   "codemirror_mode": {
    "name": "ipython",
    "version": 3
   },
   "file_extension": ".py",
   "mimetype": "text/x-python",
   "name": "python",
   "nbconvert_exporter": "python",
   "pygments_lexer": "ipython3",
   "version": "3.8.6-final"
  },
  "orig_nbformat": 2,
  "kernelspec": {
   "name": "python38664bit9edd74d1942c4afb903f2a624614df5d",
   "display_name": "Python 3.8.6 64-bit",
   "language": "python"
  }
 },
 "nbformat": 4,
 "nbformat_minor": 2,
 "cells": [
  {
   "source": [
    "# Demo of the backend sandbox"
   ],
   "cell_type": "markdown",
   "metadata": {}
  },
  {
   "cell_type": "code",
   "execution_count": 1,
   "metadata": {},
   "outputs": [],
   "source": [
    "import Engine.engine as engine"
   ]
  },
  {
   "cell_type": "code",
   "execution_count": 2,
   "metadata": {},
   "outputs": [],
   "source": [
    "def Read(file):\n",
    "    with open(file, \"r\") as fin:\n",
    "        s = fin.read()\n",
    "        return s"
   ]
  },
  {
   "cell_type": "code",
   "execution_count": 3,
   "metadata": {},
   "outputs": [],
   "source": [
    "eng = Read(\"Grader/nim_grader.cpp\")\n",
    "bot = Read(\"Grader/nim_bot.cpp\")\n",
    "lib = Read(\"Grader/enginelib.hpp\")"
   ]
  },
  {
   "cell_type": "code",
   "execution_count": 4,
   "metadata": {},
   "outputs": [
    {
     "output_type": "execute_result",
     "data": {
      "text/plain": [
       "{'result': {'Success': None},\n",
       " 'usage': {'user_time': {'secs': 0, 'nanos': 1749584},\n",
       "  'wall_time': {'secs': 0, 'nanos': 109999435},\n",
       "  'memory': 40865792},\n",
       " 'evaluation_stdout': 'Initial state: { 5 4 10 2 3 }\\nPlayer #0: Action = (2, 10)\\n    Action accepted. state is { 5 4 0 2 3 }\\nPlayer #1: Action = (0, 1)\\n    Action accepted. state is { 4 4 0 2 3 }\\nPlayer #0: Action = (0, 1)\\n    Action accepted. state is { 3 4 0 2 3 }\\nPlayer #1 failed to play: error FAIL: time 1ms memory 40865kb: Killed by Signal 11\\n\\nWinner is player #0!\\n',\n",
       " 'evaluation_stderr': ''}"
      ]
     },
     "metadata": {},
     "execution_count": 4
    }
   ],
   "source": [
    "engine.Simulate(eng, [bot, bot], [(lib, \"enginelib.hpp\")])"
   ]
  },
  {
   "cell_type": "code",
   "execution_count": null,
   "metadata": {},
   "outputs": [],
   "source": []
  }
 ]
}